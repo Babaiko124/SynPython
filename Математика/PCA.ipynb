{
  "metadata": {
    "kernelspec": {
      "name": "python",
      "display_name": "Python (Pyodide)",
      "language": "python"
    },
    "language_info": {
      "codemirror_mode": {
        "name": "python",
        "version": 3
      },
      "file_extension": ".py",
      "mimetype": "text/x-python",
      "name": "python",
      "nbconvert_exporter": "python",
      "pygments_lexer": "ipython3",
      "version": "3.8"
    }
  },
  "nbformat_minor": 4,
  "nbformat": 4,
  "cells": [
    {
      "cell_type": "code",
      "source": "import numpy as np\nfrom matplotlib import pyplot as plt",
      "metadata": {
        "trusted": true
      },
      "outputs": [],
      "execution_count": 1
    },
    {
      "cell_type": "code",
      "source": "x = np.arange(1,11) * 100\ny = 2 * x + np.random.randn(10)*5\nX = np.vstack((x,y))\nprint(X)",
      "metadata": {
        "trusted": true
      },
      "outputs": [
        {
          "name": "stdout",
          "text": "[[ 100.          200.          300.          400.          500.\n   600.          700.          800.          900.         1000.        ]\n [ 202.97142789  393.3061137   599.95525977  798.68188161 1000.36664445\n  1192.89732344 1402.67897193 1593.83015367 1804.52969751 2001.42148051]]\n",
          "output_type": "stream"
        }
      ],
      "execution_count": 3
    },
    {
      "cell_type": "code",
      "source": "plt.scatter(X[0], X[1])\nplt.show()",
      "metadata": {
        "trusted": true
      },
      "outputs": [
        {
          "output_type": "display_data",
          "data": {
            "text/plain": "<Figure size 640x480 with 1 Axes>",
            "image/png": "[encoded data removed]"
          },
          "metadata": {}
        }
      ],
      "execution_count": 4
    },
    {
      "cell_type": "code",
      "source": "Xcentered = (X[0] - x.mean(), X[1] - y.mean())\nm = (x.mean(), y.mean())\nprint(Xcentered)\nprint('Mean vector: ', m)",
      "metadata": {
        "trusted": true
      },
      "outputs": [
        {
          "name": "stdout",
          "text": "(array([-450., -350., -250., -150.,  -50.,   50.,  150.,  250.,  350.,\n        450.]), array([-896.09246756, -705.75778175, -499.10863568, -300.38201384,\n        -98.69725099,   93.83342799,  303.61507648,  494.76625822,\n        705.46580206,  902.35758507]))\nMean vector:  (550.0, 1099.0638954480075)\n",
          "output_type": "stream"
        }
      ],
      "execution_count": 5
    },
    {
      "cell_type": "code",
      "source": "plt.scatter(Xcentered[0], Xcentered[1])\nplt.show()",
      "metadata": {
        "trusted": true
      },
      "outputs": [
        {
          "output_type": "display_data",
          "data": {
            "text/plain": "<Figure size 640x480 with 1 Axes>",
            "image/png": "[encoded data removed]"
          },
          "metadata": {}
        }
      ],
      "execution_count": 6
    },
    {
      "cell_type": "code",
      "source": "covmat = np.cov(Xcentered)\nprint(covmat, '\\n')\nprint('Variance of X: ', np.cov(Xcentered)[0,0])\nprint('Variance of Y: ', np.cov(Xcentered)[1,1])\nprint('Covariance X and Y: ', np.cov(Xcentered)[0,1])",
      "metadata": {
        "trusted": true
      },
      "outputs": [
        {
          "name": "stdout",
          "text": "[[ 91666.66666667 183547.28877613]\n [183547.28877613 367540.81945133]] \n\nVariance of X:  91666.66666666666\nVariance of Y:  367540.8194513317\nCovariance X and Y:  183547.2887761342\n",
          "output_type": "stream"
        }
      ],
      "execution_count": 7
    },
    {
      "cell_type": "code",
      "source": "_, vecs = np.linalg.eig(covmat)\nv = -vecs[:,1]\nXnew = np.dot(v, Xcentered)\nprint(Xnew)",
      "metadata": {
        "trusted": true
      },
      "outputs": [
        {
          "name": "stdout",
          "text": "[-1002.73462806  -787.77485808  -558.21947697  -335.75192353\n  -110.63789114   106.28650788   338.64435909   554.33460112\n   787.51364061  1008.33966907]\n",
          "output_type": "stream"
        }
      ],
      "execution_count": 8
    },
    {
      "cell_type": "code",
      "source": "v, v.shape",
      "metadata": {
        "trusted": true
      },
      "outputs": [
        {
          "execution_count": 9,
          "output_type": "execute_result",
          "data": {
            "text/plain": "(array([0.44678252, 0.8946426 ]), (2,))"
          },
          "metadata": {}
        }
      ],
      "execution_count": 9
    },
    {
      "cell_type": "code",
      "source": "Xcentered",
      "metadata": {
        "trusted": true
      },
      "outputs": [
        {
          "execution_count": 10,
          "output_type": "execute_result",
          "data": {
            "text/plain": "(array([-450., -350., -250., -150.,  -50.,   50.,  150.,  250.,  350.,\n         450.]),\n array([-896.09246756, -705.75778175, -499.10863568, -300.38201384,\n         -98.69725099,   93.83342799,  303.61507648,  494.76625822,\n         705.46580206,  902.35758507]))"
          },
          "metadata": {}
        }
      ],
      "execution_count": 10
    },
    {
      "cell_type": "code",
      "source": "vecs[-1]",
      "metadata": {
        "trusted": true
      },
      "outputs": [
        {
          "execution_count": 11,
          "output_type": "execute_result",
          "data": {
            "text/plain": "array([ 0.44678252, -0.8946426 ])"
          },
          "metadata": {}
        }
      ],
      "execution_count": 11
    },
    {
      "cell_type": "code",
      "source": "",
      "metadata": {
        "trusted": true
      },
      "outputs": [],
      "execution_count": null
    },
    {
      "cell_type": "code",
      "source": "m",
      "metadata": {
        "trusted": true
      },
      "outputs": [
        {
          "execution_count": 12,
          "output_type": "execute_result",
          "data": {
            "text/plain": "(550.0, 1099.0638954480075)"
          },
          "metadata": {}
        }
      ],
      "execution_count": 12
    },
    {
      "cell_type": "code",
      "source": "n = 5\nXrestored = np.dot(Xnew[n],v) + m\nprint('Restored: ', Xrestored)\nprint('Original: ', X[:,n])",
      "metadata": {
        "trusted": true
      },
      "outputs": [
        {
          "name": "stdout",
          "text": "Restored:  [ 597.4869539  1194.15233306]\nOriginal:  [ 600.         1192.89732344]\n",
          "output_type": "stream"
        }
      ],
      "execution_count": 14
    },
    {
      "cell_type": "code",
      "source": "",
      "metadata": {
        "trusted": true
      },
      "outputs": [],
      "execution_count": null
    },
    {
      "cell_type": "code",
      "source": "from sklearn.decomposition import PCA\npca = PCA(n_components = 1)\nXPCAreduced = pca.fit_transform(np.transpose(X))",
      "metadata": {
        "trusted": true
      },
      "outputs": [],
      "execution_count": 15
    },
    {
      "cell_type": "code",
      "source": "for xn, x_pca in zip(Xnew, XPCAreduced):\n    print(xn, '-', x_pca[0], ':', np.abs(xn - x_pca[0]))",
      "metadata": {
        "trusted": true
      },
      "outputs": [
        {
          "name": "stdout",
          "text": "-1002.7346280593017 - -1002.7346280593022 : 4.547473508864641e-13\n-787.7748580793759 - -787.774858079376 : 1.1368683772161603e-13\n-558.2194769732075 - -558.2194769732075 : 0.0\n-335.75192353017167 - -335.7519235301717 : 5.684341886080802e-14\n-110.63789113717796 - -110.63789113717797 : 1.4210854715202004e-14\n106.28650788490737 - 106.28650788490738 : 1.4210854715202004e-14\n338.64435909465135 - 338.64435909465146 : 1.1368683772161603e-13\n554.3346011220683 - 554.3346011220683 : 0.0\n787.5136406084 - 787.5136406084 : 0.0\n1008.3396690692083 - 1008.3396690692085 : 2.2737367544323206e-13\n",
          "output_type": "stream"
        }
      ],
      "execution_count": 19
    },
    {
      "cell_type": "code",
      "source": "",
      "metadata": {
        "trusted": true
      },
      "outputs": [],
      "execution_count": null
    }
  ]
}